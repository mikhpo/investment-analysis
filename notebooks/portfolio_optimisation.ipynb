{
 "metadata": {
  "language_info": {
   "codemirror_mode": {
    "name": "ipython",
    "version": 3
   },
   "file_extension": ".py",
   "mimetype": "text/x-python",
   "name": "python",
   "nbconvert_exporter": "python",
   "pygments_lexer": "ipython3",
   "version": "3.9.1"
  },
  "orig_nbformat": 2,
  "kernelspec": {
   "name": "python3",
   "display_name": "Python 3.9.1 64-bit ('.venv': poetry)"
  },
  "interpreter": {
   "hash": "5751c7e0bbb1475a4cc87a55b3d7f314fddc1eaddb6befb6b7ab795df3ea6b42"
  }
 },
 "nbformat": 4,
 "nbformat_minor": 2,
 "cells": [
  {
   "cell_type": "markdown",
   "source": [
    "# Введение\n",
    "\n",
    "Структура ноутбука:\n",
    "\n",
    "1. Импорт библиотек и настройка среды выполнения\n",
    "2. Загрузка данных о котировках активов\n",
    "3. Сравнение кумулятивной доходности активов\n",
    "4. Оптимизация портфеля методом Монте-Карло\n",
    "5. Оптимизация портфеля алгоритмом SLSQP\n",
    "6. Бэктестинг оптимизированных портфелей\n",
    "7. Примечания"
   ],
   "metadata": {}
  },
  {
   "cell_type": "markdown",
   "source": [
    "# Импорт библиотек и настройка среды выполнения"
   ],
   "metadata": {}
  },
  {
   "cell_type": "code",
   "execution_count": null,
   "source": [
    "import os # для работы с файловой системой\r\n",
    "import pandas as pd # для создания датафреймов\r\n",
    "import numpy as np # для математических преобразований\r\n",
    "import datetime as dt # для работы с датами\r\n",
    "import matplotlib.pyplot as plt # для посроения графиков\r\n",
    "from matplotlib import style # для настройки стиля графиков\r\n",
    "import pandas_datareader.data as web # для загрузки данных из веба\r\n",
    "from dateutil.relativedelta import relativedelta # для математических вычислений с датами\r\n",
    "from scipy.optimize import minimize # для оптимизационной функции"
   ],
   "outputs": [],
   "metadata": {}
  },
  {
   "cell_type": "code",
   "execution_count": null,
   "source": [
    "style.use('ggplot') # установка стиля графиков\r\n",
    "\r\n",
    "start = dt.datetime(2019, 1, 1) # самая ранняя дата периода, за который будем загружать информацию\r\n",
    "today = dt.datetime.now() # самая поздняя дата периода, за который будем загружать информацию, т.е. сегодня"
   ],
   "outputs": [],
   "metadata": {}
  },
  {
   "cell_type": "markdown",
   "source": [
    "# Загрузка данных о котировках ценных бумаг\n",
    "\n",
    "Выбор тикеров для сравнения предоставляется пользователю. Оптимальное количество тикеров для анализа: 5-7. Тикеры российских компаний необходимо указывать с суффиксом \".ME\"."
   ],
   "metadata": {}
  },
  {
   "cell_type": "code",
   "execution_count": null,
   "source": [
    "tickers = input(\"Укажите тикеры через пробел. Тикеры российских компаний необходимо указывать с суффиксом .ME (например: YNDX.ME). Оптимальное количество компаний: 5-7.\")\n",
    "tickers = tickers.split(\" \")"
   ],
   "outputs": [],
   "metadata": {}
  },
  {
   "cell_type": "code",
   "execution_count": null,
   "source": [
    "# Добавим курс доллара к рублю.\n",
    "tickers.append('USDRUB=X')\n",
    "\n",
    "# Создадим пустой датафрейм, в котором каждый столбец соответсвует каждому тикеру из списка.\n",
    "stock_data = pd.DataFrame(columns=tickers)"
   ],
   "outputs": [],
   "metadata": {}
  },
  {
   "cell_type": "markdown",
   "source": [
    "Для загрузки исторических данных о ценных бумагах будем использовать библиотеку pandas_datareader. Она может использовать различные источники данных, но в данном скрипте будет использоватья Yahoo Finance. Компании, торгуемые на Московской бирже, имеют окончание .ME. Период, за который будут загружаться данные о котировках: с 1 января 2019 года по текущий день. Для анализа будет использоваться скорректированная цена закрытия на конец дня (цена закрытия, скорректированная на дивиденды и сплиты). Точность временных данных в один день недостаточна для алгоритмической торговли, но достаточна для целей данного исследования: фундаментальной балансировки портфеля."
   ],
   "metadata": {}
  },
  {
   "cell_type": "code",
   "execution_count": null,
   "source": [
    "for ticker in tickers:\n",
    "    stock_data[ticker] = web.DataReader(ticker, 'yahoo', start, today)['Adj Close']"
   ],
   "outputs": [],
   "metadata": {}
  },
  {
   "cell_type": "markdown",
   "source": [
    "Для тикеров, номинированных в рублях, необходимо сконвертировать стоимость из рублей в доллары. После этого информацию о курсе доллара к рублю можно отбросить."
   ],
   "metadata": {}
  },
  {
   "cell_type": "code",
   "execution_count": null,
   "source": [
    "moex_tickers = [ticker for ticker in tickers if '.ME' in ticker]\n",
    "\n",
    "# Курс российских акций в долларах = курс акций в рублях / курс доллара к рублю.\n",
    "for moex_ticker in moex_tickers:\n",
    "    stock_data[moex_ticker] = stock_data.apply(lambda row: row[moex_ticker] / row['USDRUB=X'], axis=1)\n",
    "\n",
    "stock_data.drop(columns='USDRUB=X', inplace=True) # удалим курс доллара к рублю\n",
    "stock_data.columns = stock_data.columns.str.rstrip('.ME') # удалим окончание .ME для российских тикеров "
   ],
   "outputs": [],
   "metadata": {}
  },
  {
   "cell_type": "markdown",
   "source": [
    "# Сравнение кумулятивной доходности активов\n",
    "\n",
    "Нас интересует не сравнение курсов акций в абсолютном выражении и не изучение истории колебаний курсов, а относительный возврат на инвестиции - выраженный как нарастающий итог изменения доходности. Отобразим итог по кумулятивной доходности акций, актуальный по состоянию на сегодня, в графическом и матричном виде. Информацию будем анализировать за годовой период и трехмесячный период."
   ],
   "metadata": {}
  },
  {
   "cell_type": "code",
   "execution_count": null,
   "source": [
    "def compare_returns(returns, period):\n",
    "# Функция для вывода результатов сравнения доходности активов / портфелей в виде графика и в виде матрицы.\n",
    "\n",
    "    # отображение возврата на инвестиции в виде графика\n",
    "    returns.plot()\n",
    "    plt.title(f\"Кумулятивная доходность за последний {period}\")\n",
    "    plt.legend()\n",
    "    plt.ylabel('Доходность')\n",
    "    plt.xlabel('Период')\n",
    "    plt.show()\n",
    "    \n",
    "    # отображение возврата на инвестиции в виде матрицы\n",
    "    returns = returns.tail(1).transpose()\n",
    "    returns.sort_values(by=returns.columns[0], ascending=False, inplace=True)\n",
    "    returns = returns.apply(lambda row:\"{:.2%}\".format(row[0]),  axis=1)\n",
    "    print(f'Кумулятивная доходность за последний {period}:\\n{returns.to_string()}')"
   ],
   "outputs": [],
   "metadata": {}
  },
  {
   "cell_type": "code",
   "execution_count": null,
   "source": [
    "def cumulative_return(period, stock_data, show_output):\n",
    "# Определение функции для вычисления кумулятивного возврата на инвестиции. Функция принимает один аргумент: строкое обозначение временного периода, за который нужно проанализировать возврат на инвестиции.\n",
    "\n",
    "    # дата отсчета вычисляется в зависимости от переданного функции аргумента \n",
    "    if period == \"год\":\n",
    "        time_interval = today - relativedelta(years=1)\n",
    "    elif period == \"квартал\":\n",
    "        time_interval = today - relativedelta(months=3)\n",
    "    else: \n",
    "        print(\"Указан недопустимый период\")\n",
    "        return\n",
    "\n",
    "    # ограничим набор данных в соответствии с заданным периодом\n",
    "    last_period_stock_data = stock_data[stock_data.index >= time_interval]\n",
    "    cumulative_return = (last_period_stock_data.pct_change() + 1).cumprod() - 1\n",
    "    \n",
    "    if show_output == True:\n",
    "        compare_returns(cumulative_return, period)\n",
    "    else:\n",
    "        return cumulative_return"
   ],
   "outputs": [],
   "metadata": {}
  },
  {
   "cell_type": "code",
   "execution_count": null,
   "source": [
    "cumulative_return('год', stock_data, True)"
   ],
   "outputs": [],
   "metadata": {}
  },
  {
   "cell_type": "code",
   "execution_count": null,
   "source": [
    "cumulative_return('квартал', stock_data, True)"
   ],
   "outputs": [],
   "metadata": {}
  },
  {
   "cell_type": "markdown",
   "source": [
    "# Оптимизация портфеля методом Монте-Карло \n",
    "\n",
    "В рамках данного исследования оптимальным портфелем будем считать портфель с максимальным коэффициентом Шарпа. Коэффициент Шарпа можно использовать для определения того, насколько хорошо доходность портфеля компенсирует возможные риски по данному портфелю. При прочих равных условиях портфель с более высоким коэффициентом Шарпа будет считаться более сбалансированным. Добиться максимизации коэффициента Шарпа можно подбором оптимальных весов для каждой ценной бумаги в портфеле. \n",
    "\n",
    "Коэффициент Шарпа вычисляется по следующей формуле:\n",
    "$$ \\text{Sharpe} = \\frac{(R_p - R_f)}{\\sigma_p}, $$\n",
    "где:\n",
    "\n",
    "$R_{p}$ - ожидаемая доходность портфеля,\n",
    "\n",
    "$R_{f}$ - доходность безрискового актива (risk-free rate),\n",
    "\n",
    "$\\sigma_{p}$ - стандартное отклонение доходности портфеля.\n",
    "\n",
    "Ожидамая доходность портфеля вычисляется по следующей формуле:\n",
    "$$ R_{p} = (w_{1} * r_{1}) + (w_{2} * r_{2}) + ... + (w_{n} * r_{n}) ,$$\n",
    "где:\n",
    "\n",
    "$r_{i}$ - доходность актива из портфеля,\n",
    "\n",
    "$w_{i}$ - вес актива в портфеле.\n",
    "\n",
    "Стандартное отклонение доходности портфеля вычисляется как:\n",
    "$$ \\sigma_{p} = \\sqrt{(w_{i}^2 * \\sigma_{i}^2) + (w_{j}^2 * \\sigma_{j}^2) + (2 * w_{j} * w_{i} * p_{i,j} * \\sigma_{i} * \\sigma_{j})} ,$$\n",
    "где:\n",
    "\n",
    "$p_{i,j}$ - коэффициент корреляции между доходностью активов в портфеле.  \n",
    "\n",
    "\n",
    "\n",
    "В качестве ставки доходности безрискового актива примем среднюю на 2020 год ставку по годовым долларовым депозитам в российских банках, которая на момент написания скрипта составляла 0,4% годовых.\n",
    "\n",
    "Для поиска портфеля с оптимальными параметрами будем проводить симуляцию портфелей методом Монте-Карло, создав 10000 портфелей со случайным образом подобранными весами активов. Для каждого портфеля будет вычисляться ожидаемая доходность и волатильность (стандартное отклонение)."
   ],
   "metadata": {}
  },
  {
   "cell_type": "code",
   "execution_count": null,
   "source": [
    "# Зададим параметры испытаний Монте-Карло.\n",
    "number_of_tickers = len(stock_data.columns)\n",
    "risk_free_rate = 0.004 \n",
    "number_of_portfolios = 10000\n",
    "\n",
    "# Для математического прогнозирования доходности необходимо проводить усреднение доходности. Для корректного вычисления усредненной во времени доходности необходимо работать с логарифмом доходности.\n",
    "log_returns = np.log(stock_data/stock_data.shift(1))"
   ],
   "outputs": [],
   "metadata": {}
  },
  {
   "cell_type": "code",
   "execution_count": null,
   "source": [
    "# Создадим массивы, заполненные нулями, для хранения значений весов, доходностей и волатильности активов, а также коэффициентов Шарпа.\n",
    "weights_array = np.zeros((number_of_portfolios, number_of_tickers))\n",
    "returns_array = np.zeros(number_of_portfolios)\n",
    "volatilities_array = np.zeros(number_of_portfolios)\n",
    "sharpe_ratios_array = np.zeros(number_of_portfolios)\n",
    "\n",
    "# Проведение симуляции.\n",
    "for portfolio in range(number_of_portfolios):\n",
    "\n",
    "    # Генерируются случайные веса. Сумма весов не должна превышать 1. Далее веса добавляются в массив весов.\n",
    "    weights = np.array(np.random.random(number_of_tickers))\n",
    "    weights = weights / np.sum(weights)\n",
    "    weights_array[portfolio, :] = weights\n",
    "\n",
    "    # Вычисление ожидаемой доходности. Ожидаемую логарифмированную доходность необходимо аннуализировать, т.е. привести к среднегодовому значению с учетом количества торговых дней в году (252).\n",
    "    returns_array[portfolio] = np.sum((log_returns.mean() * weights) * 252)\n",
    "\n",
    "    # Вычисление волатильности.\n",
    "    volatilities_array[portfolio] = np.sqrt(np.dot(weights.T, np.dot(log_returns.cov() * 252, weights)))\n",
    "\n",
    "    # Вычисление коэффициентов Шарпа.\n",
    "    sharpe_ratios_array[portfolio] = (returns_array[portfolio] - risk_free_rate) / volatilities_array[portfolio]\n",
    "\n",
    "# Сведение массивов в единый массив.\n",
    "simulations_data = [returns_array, volatilities_array, sharpe_ratios_array, weights_array]\n",
    "\n",
    "# Создание датафрейма из единого массива и приведение его в привычный вид.\n",
    "simulations_df = pd.DataFrame(data=simulations_data).T\n",
    "simulations_df.columns = [\n",
    "    'Доходность',\n",
    "    'Волатильность',\n",
    "    'Коэффициент Шарпа',\n",
    "    'Веса активов'\n",
    "]\n",
    "\n",
    "simulations_df = simulations_df.infer_objects() # для корректного определения типа данных\n",
    "\n",
    "# Выведем веса активов в отдельные столбцы.\n",
    "simulations_df[list(stock_data.columns)] = pd.DataFrame(simulations_df['Веса активов'].to_list(), columns=[list(stock_data.columns)])\n",
    "simulations_df.drop(columns='Веса активов', inplace = True)"
   ],
   "outputs": [],
   "metadata": {}
  },
  {
   "cell_type": "code",
   "execution_count": null,
   "source": [
    "# Найдем портфель с максимальным коэффициентом Шарпа.\n",
    "max_sharpe_ratio = simulations_df.iloc[simulations_df['Коэффициент Шарпа'].argmax()]\n",
    "monte_carlo_max_sharpe_ratio_wheights = max_sharpe_ratio.drop(labels=['Доходность', 'Волатильность', 'Коэффициент Шарпа'])\n",
    "print(f\"Результат портфеля c наибольшим коэффициентом Шарпа:\\n\\n{max_sharpe_ratio[['Доходность', 'Волатильность', 'Коэффициент Шарпа']].to_string()}\")\n",
    "print(f\"\\nСтруктура портфеля:\\n{max_sharpe_ratio.drop(labels=['Доходность', 'Волатильность', 'Коэффициент Шарпа']).to_string()}\")"
   ],
   "outputs": [],
   "metadata": {}
  },
  {
   "cell_type": "code",
   "execution_count": null,
   "source": [
    "# Найдем портфель с наибольшей доходностью.\n",
    "max_returns = simulations_df.iloc[simulations_df['Доходность'].argmax()]\n",
    "print(f\"Результат портфеля c наибольшей доходностью:\\n\\n{max_returns[['Доходность', 'Волатильность', 'Коэффициент Шарпа']].to_string()}\")\n",
    "print(f\"\\nСтруктура портфеля:\\n{max_returns.drop(labels=['Доходность', 'Волатильность', 'Коэффициент Шарпа']).to_string()}\")"
   ],
   "outputs": [],
   "metadata": {}
  },
  {
   "cell_type": "code",
   "execution_count": null,
   "source": [
    "# Найдем портфель с наименьшей волатильностью.\n",
    "min_volatility = simulations_df.iloc[simulations_df['Волатильность'].argmin()]\n",
    "print(f\"Результат портфеля c наименьшей волатильностью:\\n\\n{min_volatility[['Доходность', 'Волатильность', 'Коэффициент Шарпа']].to_string()}\")\n",
    "print(f\"\\nСтруктура портфеля:\\n{min_volatility.drop(labels=['Доходность', 'Волатильность', 'Коэффициент Шарпа']).to_string()}\")"
   ],
   "outputs": [],
   "metadata": {}
  },
  {
   "cell_type": "markdown",
   "source": [
    "Теперь построим диаграмму рассеяния, отражающую взаимосвязь между ожидаемой доходностью, волотильностью и коэффициентом Шарпа."
   ],
   "metadata": {}
  },
  {
   "cell_type": "code",
   "execution_count": null,
   "source": [
    "plt.scatter(\n",
    "    y=simulations_df['Доходность'],\n",
    "    x=simulations_df['Волатильность'],\n",
    "    c=simulations_df['Коэффициент Шарпа'],\n",
    "    cmap='RdYlBu'\n",
    ")\n",
    "\n",
    "plt.title('Отношение волатильности к доходности')\n",
    "plt.colorbar(label='Коэффициент Шарпа')\n",
    "plt.xlabel('Волатильность')\n",
    "plt.ylabel('Доходность')\n",
    "\n",
    "# Максимальному коэффициенту Шарпа будет соответствовать желтая точка.\n",
    "plt.scatter(\n",
    "    max_sharpe_ratio[1],\n",
    "    max_sharpe_ratio[0],\n",
    "    marker=\".\",\n",
    "    color='y',\n",
    "    s=600\n",
    ")\n",
    "\n",
    "# Миминимальной волатильности будет соответствовать зеленая точка.\n",
    "plt.scatter(\n",
    "    min_volatility[1],\n",
    "    min_volatility[0],\n",
    "    marker=\".\",\n",
    "    color='g',\n",
    "    s=600\n",
    ")\n",
    "\n",
    "# Максимальной доходности будет соответствовать красная точка.\n",
    "plt.scatter(\n",
    "    max_returns[1],\n",
    "    max_returns[0],\n",
    "    marker=\".\",\n",
    "    color='r',\n",
    "    s=600\n",
    ")\n",
    "\n",
    "plt.show()"
   ],
   "outputs": [],
   "metadata": {}
  },
  {
   "cell_type": "markdown",
   "source": [
    "# Оптимизация портфеля алгоритмом SLSQP\n",
    "\n",
    "Теперь для поиска наибольшего коэффициента Шарпа, наибольшей доходности и наименьшей волатильности применим алгоритм SLSQP (Sequential Least SQuares Programming), реализованный в минимизационной функции библиотеки SciPy.\n",
    "\n",
    "Особенностью принименения данного метода является, то, что оптимизировать мы будем отрицательный коэффициент Шарпа. Необходимость вычисления отрицательного коэффициента Шарпа обусловлена тем, что в библиотеке SciPy в рамках данной задачи необходимо применять минимизационную функцию - таким образом, для получения наибольшего коэффициента Шарпа необходимо минимизировать отрицательный коэффициент Шарпа. Для минимизационной функции необходимо также задать следующие ограничения:\n",
    "* сумма весов активов портфеля должна равняться единице,\n",
    "* вес каждого актива должен быть в диапазоне от 0 до 1,\n",
    "* начальные весы устанавливаются одинаковыми для всех активов.  "
   ],
   "metadata": {}
  },
  {
   "cell_type": "code",
   "execution_count": null,
   "source": [
    "# Вычисление максимального коэффициента Шарпа.\n",
    "def negative_sharpe(weights, mean_returns, covariance, risk_free_rate):\n",
    "    portfolio_return = np.sum(mean_returns * weights) * 252\n",
    "    portfolio_volatility = np.sqrt(np.dot(weights.T, np.dot(covariance, weights))) * np.sqrt(252)\n",
    "    sharpe_ratio = (portfolio_return - risk_free_rate) / portfolio_volatility\n",
    "    return -sharpe_ratio\n",
    "\n",
    "def minimize_negative_sharpe(mean_returns, covariance, risk_free_rate):\n",
    "    args = (mean_returns, covariance, risk_free_rate)\n",
    "    bound = (0.0,1.0)\n",
    "    constraints = ({'type': 'eq', 'fun': lambda x: np.sum(x) - 1})\n",
    "    bounds = tuple(bound for ticker in range(number_of_tickers))\n",
    "    initial_guess = number_of_tickers*[1./number_of_tickers,]\n",
    "    result = minimize(negative_sharpe, initial_guess, args=args,\n",
    "                        method='SLSQP', bounds=bounds, constraints=constraints)\n",
    "    return result\n",
    "\n",
    "max_sharpe_portfolio = minimize_negative_sharpe(log_returns.mean(), log_returns.cov(), risk_free_rate)\n",
    "\n",
    "max_sharpe_ratio = negative_sharpe(max_sharpe_portfolio.x, log_returns.mean(), log_returns.cov(), risk_free_rate) * (-1)\n",
    "max_sharpe_portfolio_returns = np.sum(log_returns.mean() * max_sharpe_portfolio.x) * 252\n",
    "max_sharpe_portfolio_volatility = np.sqrt(np.dot(max_sharpe_portfolio.x.T, np.dot(log_returns.cov(), max_sharpe_portfolio.x))) * np.sqrt(252)\n",
    "print(f'Портфель с наибольшим коэффициентом Шарпа\\n\\nКоэффициент Шарпа: {round(max_sharpe_ratio,2)}\\nДоходность: {round(max_sharpe_portfolio_returns,2)}\\nВолатильность: {round(max_sharpe_portfolio_volatility,2)}')\n",
    "\n",
    "max_sharpe_ratio_results = pd.DataFrame([round(x,2) for x in max_sharpe_portfolio['x']],index=list(stock_data.columns)).T\n",
    "max_sharpe_ratio_results.index=[''] * len(max_sharpe_ratio_results)\n",
    "print(f'\\nСтруктура портфеля:{max_sharpe_ratio_results.T}')"
   ],
   "outputs": [],
   "metadata": {}
  },
  {
   "cell_type": "code",
   "execution_count": null,
   "source": [
    "# Аналогично вычислим портфель с наибольшей доходностью.\n",
    "def portfolio_return(weights, mean_returns):\n",
    "    portfolio_return = np.sum(mean_returns * weights) * 252\n",
    "    return -portfolio_return\n",
    "\n",
    "def max_return(mean_returns):\n",
    "    args = (mean_returns)\n",
    "    constraints = ({'type': 'eq', 'fun': lambda x: np.sum(x) - 1})\n",
    "    bound = (0.0,1.0)\n",
    "    bounds = tuple(bound for ticker in range(number_of_tickers))\n",
    "    initial_guess = number_of_tickers*[1./number_of_tickers,]\n",
    "    result = minimize(portfolio_return, initial_guess, args=args,\n",
    "                        method='SLSQP', bounds=bounds, constraints=constraints)\n",
    "    return result\n",
    "    \n",
    "max_return_portfolio = max_return(log_returns.mean())\n",
    "\n",
    "max_return_sharpe_ratio = negative_sharpe(max_return_portfolio.x, log_returns.mean(), log_returns.cov(), risk_free_rate) * (-1)\n",
    "max_return_portfolio_returns = np.sum(log_returns.mean() * max_return_portfolio.x) * 252\n",
    "max_return_portfolio_volatility = np.sqrt(np.dot(max_return_portfolio.x.T, np.dot(log_returns.cov(), max_return_portfolio.x))) * np.sqrt(252)\n",
    "print(f'Портфель с наибольшей доходностью\\n\\nКоэффициент Шарпа: {round(max_return_sharpe_ratio,2)}\\nДоходность: {round(max_return_portfolio_returns,2)}\\nВолатильность: {round(max_return_portfolio_volatility,2)}')\n",
    "\n",
    "max_return_results = pd.DataFrame([round(x,2) for x in max_return_portfolio['x']],index=list(stock_data.columns)).T\n",
    "max_return_results.index=[''] * len(max_return_results)\n",
    "print(f'\\nСтруктура портфеля:{max_return_results.T}')"
   ],
   "outputs": [],
   "metadata": {}
  },
  {
   "cell_type": "code",
   "execution_count": null,
   "source": [
    "# Аналогично вычислим портфель с наименьшей волатильностью.\n",
    "def portfolio_volatility(weights, mean_returns, covariance):\n",
    "    portfolio_volatility = np.sqrt(np.dot(weights.T, np.dot(covariance, weights))) * np.sqrt(252)\n",
    "    return portfolio_volatility\n",
    "\n",
    "def min_volatility(mean_returns, covariance):\n",
    "    args = (mean_returns, covariance)\n",
    "    constraints = ({'type': 'eq', 'fun': lambda x: np.sum(x) - 1})\n",
    "    bound = (0.0,1.0)\n",
    "    bounds = tuple(bound for ticker in range(number_of_tickers))\n",
    "    initial_guess = number_of_tickers*[1./number_of_tickers,]\n",
    "    result = minimize(portfolio_volatility, initial_guess, args=args,\n",
    "                        method='SLSQP', bounds=bounds, constraints=constraints)\n",
    "    return result\n",
    "    \n",
    "min_volatility_portfolio = min_volatility(log_returns.mean(), log_returns.cov())\n",
    "\n",
    "min_volatility_sharpe_ratio = negative_sharpe(min_volatility_portfolio.x, log_returns.mean(), log_returns.cov(), risk_free_rate) * (-1)\n",
    "min_volatility_portfolio_returns = np.sum(log_returns.mean() * min_volatility_portfolio.x) * 252\n",
    "min_volatility_portfolio_volatility = np.sqrt(np.dot(min_volatility_portfolio.x.T, np.dot(log_returns.cov(), min_volatility_portfolio.x))) * np.sqrt(252)\n",
    "print(f'Портфель с наименьшей волатильностью\\n\\nКоэффициент Шарпа: {round(min_volatility_sharpe_ratio,2)}\\nДоходность: {round(min_volatility_portfolio_returns,2)}\\nВолатильность: {round(min_volatility_portfolio_volatility,2)}')\n",
    "\n",
    "min_volatility_results = pd.DataFrame([round(x,2) for x in min_volatility_portfolio['x']],index=list(stock_data.columns)).T\n",
    "min_volatility_results.index=[''] * len(min_volatility_results)\n",
    "print(f'\\nСтруктура портфеля:{min_volatility_results.T}')"
   ],
   "outputs": [],
   "metadata": {}
  },
  {
   "cell_type": "markdown",
   "source": [
    "# Бэктестинг оптимальных портфелей\n",
    "\n",
    "Для анализа эффективности оптимальных портфелей проведем тестирование на исторических данных и сравним их результативность с результативностью индексов широкого рынка и фондов. В качестве бенчмарка будем использовать следующие индексы и активы:\n",
    "* Индекс S&P 500\n",
    "* Индекс Nasdaq Composite\n",
    "* Индекс МосБиржи\n",
    "* iShares Gold Trust ETF"
   ],
   "metadata": {}
  },
  {
   "cell_type": "code",
   "execution_count": null,
   "source": [
    "monte_carlo_max_sharpe_ratio_return = pd.DataFrame(cumulative_return(\"квартал\", stock_data, False).dot(monte_carlo_max_sharpe_ratio_wheights), columns=['Оптимальный портфель (Монте-Карло)'])\n",
    "SLSQP_max_sharpe_ratio_return = pd.DataFrame(cumulative_return(\"квартал\", stock_data, False).dot(max_sharpe_ratio_results.iloc[0]), columns=['Оптимальный портфель (SLSQP)'])\n",
    "\n",
    "monte_carlo_max_sharpe_ratio_return.name = \"Монте-Карло\"\n",
    "SLSQP_max_sharpe_ratio_return.name = \"SLSQP\"\n",
    "\n",
    "tickers_to_compare = ['IAU', '^IXIC', '^GSPC', 'IMOEX.ME']\n",
    "stock_data_to_compare = pd.DataFrame(columns=tickers_to_compare)\n",
    "\n",
    "for ticker in tickers_to_compare:\n",
    "    stock_data_to_compare[ticker] = web.DataReader(ticker, 'yahoo', start, today)['Close']\n",
    "\n",
    "stock_data_to_compare.rename(columns={'^GSPC': 'S&P 500', '^IXIC': 'Nasdaq', 'IAU': 'iShares Gold Trust', 'IMOEX.ME': 'Индекс МосБиржи'}, inplace=True)\n",
    "\n",
    "stock_data_to_compare_return = cumulative_return(\"квартал\", stock_data_to_compare, False)\n",
    "stock_data_to_compare_return = stock_data_to_compare_return.merge(monte_carlo_max_sharpe_ratio_return, how='inner', on=\"Date\")\n",
    "stock_data_to_compare_return = stock_data_to_compare_return.merge(SLSQP_max_sharpe_ratio_return, how='inner', on=\"Date\")\n",
    "compare_returns(stock_data_to_compare_return, \"квартал\")"
   ],
   "outputs": [],
   "metadata": {}
  },
  {
   "cell_type": "code",
   "execution_count": null,
   "source": [
    "monte_carlo_max_sharpe_ratio_return = pd.DataFrame(cumulative_return(\"год\", stock_data, False).dot(monte_carlo_max_sharpe_ratio_wheights), columns=['Оптимальный портфель (Монте-Карло)'])\n",
    "SLSQP_max_sharpe_ratio_return = pd.DataFrame(cumulative_return(\"год\", stock_data, False).dot(max_sharpe_ratio_results.iloc[0]), columns=['Оптимальный портфель (SLSQP)'])\n",
    "\n",
    "monte_carlo_max_sharpe_ratio_return.name = \"Монте-Карло\"\n",
    "SLSQP_max_sharpe_ratio_return.name = \"SLSQP\"\n",
    "\n",
    "tickers_to_compare = ['IAU', '^IXIC', '^GSPC', 'IMOEX.ME']\n",
    "stock_data_to_compare = pd.DataFrame(columns=tickers_to_compare)\n",
    "\n",
    "for ticker in tickers_to_compare:\n",
    "    stock_data_to_compare[ticker] = web.DataReader(ticker, 'yahoo', start, today)['Close']\n",
    "\n",
    "stock_data_to_compare.rename(columns={'^GSPC': 'S&P 500', '^IXIC': 'Nasdaq', 'IAU': 'iShares Gold Trust', 'IMOEX.ME': 'Индекс МосБиржи'}, inplace=True)\n",
    "\n",
    "stock_data_to_compare_return = cumulative_return(\"год\", stock_data_to_compare, False)\n",
    "stock_data_to_compare_return = stock_data_to_compare_return.merge(monte_carlo_max_sharpe_ratio_return, how='inner', on=\"Date\")\n",
    "stock_data_to_compare_return = stock_data_to_compare_return.merge(SLSQP_max_sharpe_ratio_return, how='inner', on=\"Date\")\n",
    "compare_returns(stock_data_to_compare_return, \"год\")"
   ],
   "outputs": [],
   "metadata": {}
  },
  {
   "cell_type": "markdown",
   "source": [
    "# Примечания\n",
    "\n",
    "* Историческая доходность не гарантирует будущей доходности.\n",
    "* Ни комментарии к скрипту, ни результаты работы скрипта не являются индивидуальной инвестиционной рекомендацией. Каждый инвестор должен подбирать себе портфель в соответствии с собственными стратегическим видением, аппетиту к доходности и толерантности к риску."
   ],
   "metadata": {}
  }
 ]
}